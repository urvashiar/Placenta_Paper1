{
 "cells": [
  {
   "cell_type": "code",
   "execution_count": 15,
   "metadata": {
    "id": "YPglJgjIgmNW"
   },
   "outputs": [],
   "source": [
    "#!pip install autokeras"
   ]
  },
  {
   "cell_type": "code",
   "execution_count": 1,
   "metadata": {
    "id": "J0ySKdRHe9sY"
   },
   "outputs": [
    {
     "name": "stderr",
     "output_type": "stream",
     "text": [
      "2023-04-11 16:23:10.357325: I tensorflow/core/platform/cpu_feature_guard.cc:193] This TensorFlow binary is optimized with oneAPI Deep Neural Network Library (oneDNN) to use the following CPU instructions in performance-critical operations:  AVX2 FMA\n",
      "To enable them in other operations, rebuild TensorFlow with the appropriate compiler flags.\n",
      "2023-04-11 16:23:23.082707: W tensorflow/compiler/xla/stream_executor/platform/default/dso_loader.cc:64] Could not load dynamic library 'libnvinfer.so.7'; dlerror: libnvinfer.so.7: cannot open shared object file: No such file or directory\n",
      "2023-04-11 16:23:23.083396: W tensorflow/compiler/xla/stream_executor/platform/default/dso_loader.cc:64] Could not load dynamic library 'libnvinfer_plugin.so.7'; dlerror: libnvinfer_plugin.so.7: cannot open shared object file: No such file or directory\n",
      "2023-04-11 16:23:23.083476: W tensorflow/compiler/tf2tensorrt/utils/py_utils.cc:38] TF-TRT Warning: Cannot dlopen some TensorRT libraries. If you would like to use Nvidia GPU with TensorRT, please make sure the missing libraries mentioned above are installed properly.\n"
     ]
    }
   ],
   "source": [
    "import matplotlib.pyplot as plt\n",
    "import numpy as np\n",
    "import PIL\n",
    "import os,shutil\n",
    "import pandas as pd\n",
    "import keras\n",
    "from keras.layers import *\n",
    "from keras import models\n",
    "from keras.preprocessing.image import ImageDataGenerator\n",
    "from tensorflow.keras.utils import load_img\n",
    "from keras.models import load_model\n",
    "from sklearn.model_selection import train_test_split\n",
    "from sklearn.preprocessing import LabelEncoder\n",
    "import autokeras as ak\n",
    "#from autokeras import StructuredDataClassifier\n",
    "#from tensorflow.keras.models import Sequential, model_from_json\n"
   ]
  },
  {
   "cell_type": "code",
   "execution_count": 2,
   "metadata": {
    "id": "SXqsX0n1fD_e"
   },
   "outputs": [
    {
     "name": "stdout",
     "output_type": "stream",
     "text": [
      "['Second_400', 'First_400']\n",
      "Training Data:- \n",
      "Second_400 2\n",
      "First_400 2\n"
     ]
    }
   ],
   "source": [
    "path=\"/home/urvashiarora3195/Capstone_project/Control_400/one_two\"\n",
    "train=os.listdir(path)\n",
    "print(train)\n",
    "print(\"Training Data:- \")\n",
    "for f in train:\n",
    "  path1= path+\"/\" +f\n",
    "  print(f+ \" \"+ str(len(os.listdir(path))))"
   ]
  },
  {
   "cell_type": "code",
   "execution_count": 3,
   "metadata": {
    "id": "L1iSb2PbflUt"
   },
   "outputs": [
    {
     "name": "stdout",
     "output_type": "stream",
     "text": [
      "['Second_400', 'First_400']\n",
      "(800, 224, 224, 1)\n"
     ]
    }
   ],
   "source": [
    "from keras.utils import load_img, img_to_array\n",
    "path1=\"/home/urvashiarora3195/Capstone_project/Control_400/one_two\"\n",
    "train=os.listdir(path1)\n",
    "print(train)\n",
    "image_data_train=[]\n",
    "label_train=[]\n",
    "for f in train:\n",
    "  path=\"/home/urvashiarora3195/Capstone_project/Control_400/one_two/\"+f+'/'\n",
    "  entries=os.listdir(path)\n",
    "  for entry in entries:\n",
    "      if f=='First_400':\n",
    "        label=0\n",
    "      else:\n",
    "        label=1\n",
    "      image=load_img(path+entry,target_size=(224,224,1))\n",
    "      image_array=np.reshape(np.average((img_to_array(image)/255.0), axis=2), (224,224,1))\n",
    "      image_data_train.append(image_array)\n",
    "      label_train.append(label)\n",
    "\n",
    "image_data_train=np.array(image_data_train)\n",
    "label_train=np.array(label_train)\n",
    "\n",
    "print(image_data_train.shape)"
   ]
  },
  {
   "cell_type": "code",
   "execution_count": 4,
   "metadata": {
    "id": "VWRxk3vef2Rk"
   },
   "outputs": [
    {
     "name": "stdout",
     "output_type": "stream",
     "text": [
      "(720, 224, 224, 1) (80, 224, 224, 1) (720,) (80,)\n"
     ]
    }
   ],
   "source": [
    "x_train, X_test, y1_train, y_test = train_test_split(image_data_train, label_train, test_size=0.1, random_state=32)\n",
    "print(x_train.shape, X_test.shape, y1_train.shape, y_test.shape)"
   ]
  },
  {
   "cell_type": "code",
   "execution_count": 5,
   "metadata": {},
   "outputs": [
    {
     "name": "stdout",
     "output_type": "stream",
     "text": [
      "(640, 224, 224, 1) (80, 224, 224, 1) (640,) (80,)\n"
     ]
    }
   ],
   "source": [
    "X_train, X_valid, y_train, y_valid = train_test_split(x_train, y1_train, test_size=0.111, random_state=32)\n",
    "print(X_train.shape, X_valid.shape, y_train.shape, y_valid.shape)"
   ]
  },
  {
   "cell_type": "code",
   "execution_count": 6,
   "metadata": {
    "id": "euX04e7l96Zm"
   },
   "outputs": [],
   "source": [
    "datagen = ImageDataGenerator(\n",
    "    featurewise_center=True,\n",
    "    featurewise_std_normalization=True,\n",
    "    rotation_range=20,\n",
    "    width_shift_range=0.2,\n",
    "    height_shift_range=0.2,\n",
    "    horizontal_flip=True,\n",
    "    validation_split=0.2)\n"
   ]
  },
  {
   "cell_type": "code",
   "execution_count": 7,
   "metadata": {
    "id": "Kt88LLPG-ABU"
   },
   "outputs": [],
   "source": [
    "train_data = datagen.fit(X_train)"
   ]
  },
  {
   "cell_type": "code",
   "execution_count": 8,
   "metadata": {},
   "outputs": [],
   "source": [
    "import keras\n",
    "from keras.models import Sequential\n",
    "from keras.layers import Dense\n",
    "from keras import layers\n",
    "from keras.layers import InputLayer\n",
    "from sklearn.utils import class_weight\n",
    "from tensorflow.keras.regularizers import l2,l1\n",
    "from keras.callbacks import EarlyStopping\n"
   ]
  },
  {
   "cell_type": "code",
   "execution_count": 9,
   "metadata": {},
   "outputs": [
    {
     "name": "stderr",
     "output_type": "stream",
     "text": [
      "2023-04-11 16:24:05.834083: W tensorflow/compiler/xla/stream_executor/platform/default/dso_loader.cc:64] Could not load dynamic library 'libcudnn.so.8'; dlerror: libcudnn.so.8: cannot open shared object file: No such file or directory\n",
      "2023-04-11 16:24:05.834283: W tensorflow/core/common_runtime/gpu/gpu_device.cc:1934] Cannot dlopen some GPU libraries. Please make sure the missing libraries mentioned above are installed properly if you would like to use GPU. Follow the guide at https://www.tensorflow.org/install/gpu for how to download and setup the required libraries for your platform.\n",
      "Skipping registering GPU devices...\n",
      "2023-04-11 16:24:05.858016: I tensorflow/core/platform/cpu_feature_guard.cc:193] This TensorFlow binary is optimized with oneAPI Deep Neural Network Library (oneDNN) to use the following CPU instructions in performance-critical operations:  AVX2 FMA\n",
      "To enable them in other operations, rebuild TensorFlow with the appropriate compiler flags.\n"
     ]
    }
   ],
   "source": [
    "model = tf.keras.Sequential([\n",
    "  tf.keras.layers.InputLayer(input_shape=(224,224,1), dtype = \"float32\"),\n",
    "  tf.keras.layers.Normalization(axis=-1, mean=None, variance=None),\n",
    "  tf.keras.layers.Conv2D(80, kernel_size=(2,2), strides=(1, 1), activation=\"ReLU\"),\n",
    "  #tf.keras.layers.Dropout(0.3),\n",
    "  tf.keras.layers.Conv2D(60, kernel_size=(2,2), strides=(1, 1), activation=\"ReLU\"),\n",
    "  tf.keras.layers.MaxPool2D(pool_size=(2, 2), strides=None, padding='valid'),\n",
    "  tf.keras.layers.Dropout(0.7),\n",
    "  tf.keras.layers.Flatten(),\n",
    "  tf.keras.layers.Dropout(0.9),\n",
    "  tf.keras.layers.Dense(1,activation=\"sigmoid\")])\n"
   ]
  },
  {
   "cell_type": "code",
   "execution_count": 10,
   "metadata": {},
   "outputs": [],
   "source": [
    "model.compile(optimizer = tf.keras.optimizers.Adam(learning_rate=0.0007), loss = 'binary_crossentropy',metrics = ['acc'])"
   ]
  },
  {
   "cell_type": "code",
   "execution_count": 11,
   "metadata": {},
   "outputs": [
    {
     "name": "stdout",
     "output_type": "stream",
     "text": [
      "Model: \"sequential\"\n",
      "_________________________________________________________________\n",
      " Layer (type)                Output Shape              Param #   \n",
      "=================================================================\n",
      " normalization (Normalizatio  (None, 224, 224, 1)      3         \n",
      " n)                                                              \n",
      "                                                                 \n",
      " conv2d (Conv2D)             (None, 223, 223, 80)      400       \n",
      "                                                                 \n",
      " conv2d_1 (Conv2D)           (None, 222, 222, 60)      19260     \n",
      "                                                                 \n",
      " max_pooling2d (MaxPooling2D  (None, 111, 111, 60)     0         \n",
      " )                                                               \n",
      "                                                                 \n",
      " dropout (Dropout)           (None, 111, 111, 60)      0         \n",
      "                                                                 \n",
      " flatten (Flatten)           (None, 739260)            0         \n",
      "                                                                 \n",
      " dropout_1 (Dropout)         (None, 739260)            0         \n",
      "                                                                 \n",
      " dense (Dense)               (None, 1)                 739261    \n",
      "                                                                 \n",
      "=================================================================\n",
      "Total params: 758,924\n",
      "Trainable params: 758,921\n",
      "Non-trainable params: 3\n",
      "_________________________________________________________________\n"
     ]
    }
   ],
   "source": [
    "model.summary()"
   ]
  },
  {
   "cell_type": "code",
   "execution_count": 22,
   "metadata": {},
   "outputs": [],
   "source": [
    "es = EarlyStopping(monitor='val_loss', mode='min', verbose=1, patience=15)"
   ]
  },
  {
   "cell_type": "code",
   "execution_count": 23,
   "metadata": {},
   "outputs": [
    {
     "name": "stdout",
     "output_type": "stream",
     "text": [
      "Epoch 1/50\n",
      "20/20 [==============================] - 230s 11s/step - loss: 0.9839 - acc: 0.5094 - val_loss: 0.7377 - val_acc: 0.4625\n",
      "Epoch 2/50\n",
      "20/20 [==============================] - 222s 11s/step - loss: 0.6854 - acc: 0.5656 - val_loss: 0.6831 - val_acc: 0.6625\n",
      "Epoch 3/50\n",
      "20/20 [==============================] - 221s 11s/step - loss: 0.6818 - acc: 0.5672 - val_loss: 0.6797 - val_acc: 0.5125\n",
      "Epoch 4/50\n",
      "20/20 [==============================] - 221s 11s/step - loss: 0.6419 - acc: 0.6375 - val_loss: 0.6075 - val_acc: 0.7125\n",
      "Epoch 5/50\n",
      "20/20 [==============================] - 221s 11s/step - loss: 0.6186 - acc: 0.6609 - val_loss: 0.5986 - val_acc: 0.6875\n",
      "Epoch 6/50\n",
      "20/20 [==============================] - 221s 11s/step - loss: 0.5972 - acc: 0.6859 - val_loss: 0.6002 - val_acc: 0.7125\n",
      "Epoch 7/50\n",
      "20/20 [==============================] - 220s 11s/step - loss: 0.5749 - acc: 0.7031 - val_loss: 0.6010 - val_acc: 0.7250\n",
      "Epoch 8/50\n",
      "20/20 [==============================] - 220s 11s/step - loss: 0.5533 - acc: 0.7063 - val_loss: 0.5930 - val_acc: 0.7125\n",
      "Epoch 9/50\n",
      "20/20 [==============================] - 223s 11s/step - loss: 0.5307 - acc: 0.7266 - val_loss: 0.5940 - val_acc: 0.6875\n",
      "Epoch 10/50\n",
      "20/20 [==============================] - 221s 11s/step - loss: 0.5054 - acc: 0.7578 - val_loss: 0.6611 - val_acc: 0.6250\n",
      "Epoch 11/50\n",
      "20/20 [==============================] - 221s 11s/step - loss: 0.4860 - acc: 0.7828 - val_loss: 0.6066 - val_acc: 0.6750\n",
      "Epoch 12/50\n",
      "20/20 [==============================] - 221s 11s/step - loss: 0.4322 - acc: 0.8250 - val_loss: 0.6091 - val_acc: 0.6500\n",
      "Epoch 13/50\n",
      "20/20 [==============================] - 221s 11s/step - loss: 0.4379 - acc: 0.8172 - val_loss: 0.5998 - val_acc: 0.7000\n",
      "Epoch 14/50\n",
      "20/20 [==============================] - 222s 11s/step - loss: 0.3886 - acc: 0.8359 - val_loss: 0.5986 - val_acc: 0.6250\n",
      "Epoch 15/50\n",
      "20/20 [==============================] - 220s 11s/step - loss: 0.3439 - acc: 0.8516 - val_loss: 0.6179 - val_acc: 0.6875\n",
      "Epoch 16/50\n",
      "20/20 [==============================] - 220s 11s/step - loss: 0.3599 - acc: 0.8406 - val_loss: 0.5982 - val_acc: 0.6875\n",
      "Epoch 17/50\n",
      "20/20 [==============================] - 221s 11s/step - loss: 0.3153 - acc: 0.8719 - val_loss: 0.6813 - val_acc: 0.6125\n",
      "Epoch 18/50\n",
      "20/20 [==============================] - 220s 11s/step - loss: 0.2622 - acc: 0.8953 - val_loss: 0.6336 - val_acc: 0.6375\n",
      "Epoch 19/50\n",
      "20/20 [==============================] - 223s 11s/step - loss: 0.2770 - acc: 0.9031 - val_loss: 0.6374 - val_acc: 0.6500\n",
      "Epoch 20/50\n",
      "20/20 [==============================] - 220s 11s/step - loss: 0.2481 - acc: 0.9062 - val_loss: 0.6641 - val_acc: 0.6625\n",
      "Epoch 21/50\n",
      "20/20 [==============================] - 221s 11s/step - loss: 0.2423 - acc: 0.9062 - val_loss: 0.6554 - val_acc: 0.6375\n",
      "Epoch 22/50\n",
      "20/20 [==============================] - 223s 11s/step - loss: 0.2215 - acc: 0.9141 - val_loss: 0.6684 - val_acc: 0.6750\n",
      "Epoch 23/50\n",
      "20/20 [==============================] - 222s 11s/step - loss: 0.1716 - acc: 0.9344 - val_loss: 0.7433 - val_acc: 0.6250\n",
      "Epoch 24/50\n",
      "20/20 [==============================] - 220s 11s/step - loss: 0.2030 - acc: 0.9219 - val_loss: 0.7085 - val_acc: 0.6625\n",
      "Epoch 25/50\n",
      "20/20 [==============================] - 223s 11s/step - loss: 0.1699 - acc: 0.9328 - val_loss: 0.7695 - val_acc: 0.6375\n",
      "Epoch 26/50\n",
      "20/20 [==============================] - 221s 11s/step - loss: 0.1541 - acc: 0.9516 - val_loss: 0.7613 - val_acc: 0.6500\n",
      "Epoch 27/50\n",
      "20/20 [==============================] - 222s 11s/step - loss: 0.1526 - acc: 0.9484 - val_loss: 0.7683 - val_acc: 0.6375\n",
      "Epoch 28/50\n",
      "20/20 [==============================] - 220s 11s/step - loss: 0.1662 - acc: 0.9359 - val_loss: 0.7660 - val_acc: 0.6625\n",
      "Epoch 29/50\n",
      "20/20 [==============================] - 220s 11s/step - loss: 0.1734 - acc: 0.9359 - val_loss: 0.7904 - val_acc: 0.6375\n",
      "Epoch 30/50\n",
      "20/20 [==============================] - 221s 11s/step - loss: 0.1346 - acc: 0.9500 - val_loss: 0.8308 - val_acc: 0.6500\n",
      "Epoch 31/50\n",
      "20/20 [==============================] - 220s 11s/step - loss: 0.1192 - acc: 0.9563 - val_loss: 0.8339 - val_acc: 0.6125\n",
      "Epoch 32/50\n",
      "20/20 [==============================] - 219s 11s/step - loss: 0.1151 - acc: 0.9578 - val_loss: 0.8783 - val_acc: 0.6500\n",
      "Epoch 33/50\n",
      "20/20 [==============================] - 217s 11s/step - loss: 0.1241 - acc: 0.9516 - val_loss: 0.8856 - val_acc: 0.6500\n",
      "Epoch 34/50\n",
      "20/20 [==============================] - 193s 10s/step - loss: 0.1087 - acc: 0.9531 - val_loss: 0.9683 - val_acc: 0.6375\n",
      "Epoch 35/50\n",
      "20/20 [==============================] - 194s 10s/step - loss: 0.1074 - acc: 0.9641 - val_loss: 0.8863 - val_acc: 0.6250\n",
      "Epoch 36/50\n",
      "20/20 [==============================] - 196s 10s/step - loss: 0.1231 - acc: 0.9438 - val_loss: 0.8910 - val_acc: 0.6625\n",
      "Epoch 37/50\n",
      "20/20 [==============================] - 199s 10s/step - loss: 0.0887 - acc: 0.9734 - val_loss: 0.9607 - val_acc: 0.6375\n",
      "Epoch 38/50\n",
      "20/20 [==============================] - 195s 10s/step - loss: 0.0857 - acc: 0.9672 - val_loss: 0.9411 - val_acc: 0.6500\n",
      "Epoch 39/50\n",
      "20/20 [==============================] - 193s 10s/step - loss: 0.0955 - acc: 0.9641 - val_loss: 0.9412 - val_acc: 0.6500\n",
      "Epoch 40/50\n",
      "20/20 [==============================] - 192s 10s/step - loss: 0.1088 - acc: 0.9625 - val_loss: 0.9687 - val_acc: 0.6625\n",
      "Epoch 41/50\n",
      "20/20 [==============================] - 194s 10s/step - loss: 0.0928 - acc: 0.9672 - val_loss: 0.9479 - val_acc: 0.6750\n",
      "Epoch 42/50\n",
      "20/20 [==============================] - 196s 10s/step - loss: 0.0733 - acc: 0.9750 - val_loss: 0.9754 - val_acc: 0.6500\n",
      "Epoch 43/50\n",
      "20/20 [==============================] - 194s 10s/step - loss: 0.0975 - acc: 0.9734 - val_loss: 0.9572 - val_acc: 0.6375\n",
      "Epoch 44/50\n",
      "20/20 [==============================] - 195s 10s/step - loss: 0.1027 - acc: 0.9688 - val_loss: 0.9987 - val_acc: 0.6375\n",
      "Epoch 45/50\n",
      "20/20 [==============================] - 195s 10s/step - loss: 0.0739 - acc: 0.9750 - val_loss: 0.9879 - val_acc: 0.6500\n",
      "Epoch 46/50\n",
      "20/20 [==============================] - 195s 10s/step - loss: 0.0863 - acc: 0.9656 - val_loss: 1.0040 - val_acc: 0.6250\n",
      "Epoch 47/50\n",
      "20/20 [==============================] - 195s 10s/step - loss: 0.0849 - acc: 0.9641 - val_loss: 1.0437 - val_acc: 0.6375\n",
      "Epoch 48/50\n",
      "20/20 [==============================] - 195s 10s/step - loss: 0.0797 - acc: 0.9703 - val_loss: 1.0431 - val_acc: 0.6500\n",
      "Epoch 49/50\n",
      "20/20 [==============================] - 195s 10s/step - loss: 0.0542 - acc: 0.9797 - val_loss: 1.0459 - val_acc: 0.6625\n",
      "Epoch 50/50\n",
      "20/20 [==============================] - 194s 10s/step - loss: 0.0711 - acc: 0.9812 - val_loss: 1.0605 - val_acc: 0.6250\n"
     ]
    }
   ],
   "source": [
    "hist = model.fit(X_train, y_train,validation_data=(X_valid, y_valid), epochs=50, shuffle =True)"
   ]
  },
  {
   "cell_type": "code",
   "execution_count": 24,
   "metadata": {},
   "outputs": [],
   "source": [
    "df = pd.DataFrame({'loss' : hist.history[\"loss\"],\n",
    "                                'val_loss' : hist.history[\"val_loss\"],\n",
    "                                'accuracy' : hist.history[\"acc\"],\n",
    "                               \"val_accuracy\": hist.history[\"val_acc\"] }, \n",
    "                                columns=['loss','val_loss', 'accuracy', \"val_accuracy\"])\n",
    "df.head()\n",
    "df.to_csv('/home/urvashiarora3195/Capstone_project/result/hist_12.csv')\n"
   ]
  },
  {
   "cell_type": "code",
   "execution_count": 28,
   "metadata": {
    "id": "rMhzprMGhcn0"
   },
   "outputs": [
    {
     "data": {
      "image/png": "[encoded data removed]",
      "text/plain": [
       "<Figure size 640x480 with 1 Axes>"
      ]
     },
     "metadata": {},
     "output_type": "display_data"
    }
   ],
   "source": [
    "#plt.style.use(\"seaborn\")\n",
    "plt.plot(hist.history['loss'],label=\"training loss\",c='red')\n",
    "plt.plot(hist.history['val_loss'],label=\"validation loss\",c='green')\n",
    "plt.xlabel(\"Epochs\", fontsize=15)\n",
    "#plt.ylim(0.3,2.0)\n",
    "plt.ylabel(\"Loss\", fontsize=15)\n",
    "#plt.savefig(\"/home/urvashiarora3195/Capstone_project/result/loss_12.jpg\")\n",
    "#plt.legend()\n",
    "plt.show()"
   ]
  },
  {
   "cell_type": "code",
   "execution_count": 26,
   "metadata": {
    "id": "KbLaQE1Qh_8x"
   },
   "outputs": [
    {
     "data": {
      "image/png": "[encoded data removed]",
      "text/plain": [
       "<Figure size 640x480 with 1 Axes>"
      ]
     },
     "metadata": {},
     "output_type": "display_data"
    }
   ],
   "source": [
    "#plt.style.use(\"seaborn\")\n",
    "plt.plot(hist.history['acc'],label=\"training acc\",c='red')\n",
    "plt.plot(hist.history['val_acc'],label=\"validation acc\",c='green')\n",
    "plt.xlabel(\"Epochs\", fontsize=15)\n",
    "plt.ylabel(\"Accuracy\", fontsize=15)\n",
    "#plt.savefig(\"/home/urvashiarora3195/Capstone_project/result/acc_12.jpg\")\n",
    "plt.legend()\n",
    "plt.show()"
   ]
  },
  {
   "cell_type": "code",
   "execution_count": 27,
   "metadata": {
    "id": "E09zzWiJihz6"
   },
   "outputs": [
    {
     "name": "stdout",
     "output_type": "stream",
     "text": [
      "3/3 [==============================] - 4s 937ms/step\n",
      "confusion Matrix:\n",
      "[[23 11]\n",
      " [14 32]]\n",
      "**********************************************\n",
      "Classification Report:\n",
      "              precision    recall  f1-score   support\n",
      "\n",
      "       First       0.62      0.68      0.65        34\n",
      "      Second       0.74      0.70      0.72        46\n",
      "\n",
      "    accuracy                           0.69        80\n",
      "   macro avg       0.68      0.69      0.68        80\n",
      "weighted avg       0.69      0.69      0.69        80\n",
      "\n",
      "**********************************************\n",
      "Accuracy Score : 0.6875\n",
      "**********************************************\n",
      "F1 Score : 0.7191011235955057\n",
      "**********************************************\n",
      "Class Wise Accuracy :\n",
      "First : 67.64705882352942\n",
      "Second : 69.56521739130434\n",
      "**********************************************\n",
      "ROC_AUC Score: 0.6860613810741689\n",
      "**********************************************\n",
      "Cohen_kappa score: 0.36788874841972186\n",
      "Balanced_Accuracy score: 0.6860613810741688\n"
     ]
    },
    {
     "data": {
      "image/png": "[encoded data removed]",
      "text/plain": [
       "<Figure size 640x480 with 1 Axes>"
      ]
     },
     "metadata": {},
     "output_type": "display_data"
    }
   ],
   "source": [
    "Y_pred_res = model.predict(X_test)\n",
    "Y_pred=[]\n",
    "Y_pred_res=list(Y_pred_res)\n",
    "for res in Y_pred_res:\n",
    "  if res>0.5:\n",
    "    Y_pred.append(1)\n",
    "  else:\n",
    "    Y_pred.append(0)\n",
    "y_pred=np.array(Y_pred)\n",
    "\n",
    "#Confution Matrix and Classification Report\n",
    "from sklearn.metrics import accuracy_score,f1_score\n",
    "from sklearn.metrics import confusion_matrix,classification_report\n",
    "from sklearn.metrics import roc_auc_score\n",
    "from sklearn.metrics import RocCurveDisplay\n",
    "from sklearn.metrics import balanced_accuracy_score\n",
    "from sklearn.metrics import cohen_kappa_score\n",
    "\n",
    "\n",
    "print(\"confusion Matrix:\")\n",
    "print(confusion_matrix(y_test, y_pred)) \n",
    "print(\"**********************************************\")\n",
    "print(\"Classification Report:\")\n",
    "print(classification_report(y_test, y_pred,target_names=['First','Second'])) \n",
    "print(\"**********************************************\")\n",
    "print(\"Accuracy Score :\",accuracy_score(y_test, y_pred))\n",
    "print(\"**********************************************\")\n",
    "print(\"F1 Score :\",f1_score(y_test, y_pred))\n",
    "print(\"**********************************************\")\n",
    "print(\"Class Wise Accuracy :\")\n",
    "cm=confusion_matrix(y_test, y_pred)\n",
    "cm=cm.astype('float')/cm.sum(axis=1)[:, np.newaxis]\n",
    "class_wise_acc=cm.diagonal()\n",
    "print(\"First :\", class_wise_acc[0]*100)\n",
    "print(\"Second :\", class_wise_acc[1]*100)\n",
    "print(\"**********************************************\")\n",
    "r_score=roc_auc_score(y_test, y_pred, average=None)\n",
    "print(\"ROC_AUC Score:\",r_score)\n",
    "print(\"**********************************************\")\n",
    "RocCurveDisplay.from_predictions(y_test, y_pred)\n",
    "cohen_score = cohen_kappa_score(y_test, y_pred)\n",
    "print(\"Cohen_kappa score:\",cohen_score)\n",
    "BAC = balanced_accuracy_score(y_test, y_pred)\n",
    "print(\"Balanced_Accuracy score:\",BAC)\n"
   ]
  },
  {
   "cell_type": "code",
   "execution_count": null,
   "metadata": {
    "id": "8zNE6G5HGPvH"
   },
   "outputs": [],
   "source": [
    "#model = clf.export_model()\n"
   ]
  },
  {
   "cell_type": "code",
   "execution_count": null,
   "metadata": {},
   "outputs": [],
   "source": [
    "model.summary()"
   ]
  },
  {
   "cell_type": "code",
   "execution_count": null,
   "metadata": {
    "id": "4TyDQshETaAh"
   },
   "outputs": [],
   "source": [
    "import pickle"
   ]
  },
  {
   "cell_type": "code",
   "execution_count": null,
   "metadata": {},
   "outputs": [],
   "source": [
    "pickle.dump(model, open('model12.pkl','wb'))\n"
   ]
  },
  {
   "cell_type": "code",
   "execution_count": null,
   "metadata": {
    "id": "x4V5mThAGirK"
   },
   "outputs": [],
   "source": [
    "#import torch\n",
    "#path = F\"/content/drive/model_baseline.pt\"\n",
    "#torch.save(model.state_dict(), path)"
   ]
  },
  {
   "cell_type": "code",
   "execution_count": null,
   "metadata": {
    "id": "Uy-a9_kyUBHx"
   },
   "outputs": [],
   "source": [
    "# serialize model to JSON\n",
    "model_json = model.to_json()\n",
    "with open(\"model.json\", \"w\") as json_file:\n",
    "    json_file.write(model_json)\n",
    "# serialize weights to HDF5\n",
    "model.save_weights(\"model.h5\")\n",
    "print(\"Saved model to disk\")"
   ]
  },
  {
   "cell_type": "code",
   "execution_count": null,
   "metadata": {
    "id": "eI6fDOnaT5qL"
   },
   "outputs": [],
   "source": [
    "a = len(X_train)"
   ]
  },
  {
   "cell_type": "code",
   "execution_count": null,
   "metadata": {
    "id": "ISfjOcNMT_x0"
   },
   "outputs": [],
   "source": [
    "#X_train.reshape(435*224*224*3)"
   ]
  },
  {
   "cell_type": "code",
   "execution_count": null,
   "metadata": {
    "id": "qWhTASrPTpwJ"
   },
   "outputs": [],
   "source": [
    "from sklearn.decomposition import PCA\n",
    "\n",
    "pca = PCA(n_components=3)\n",
    "\n",
    "X = pca.fit_transform(X_train.reshape(a,224*224*1))"
   ]
  },
  {
   "cell_type": "code",
   "execution_count": null,
   "metadata": {
    "id": "LyjKXSLBBZuP"
   },
   "outputs": [],
   "source": [
    "pca.shape"
   ]
  },
  {
   "cell_type": "code",
   "execution_count": null,
   "metadata": {
    "id": "DhNNC6Uasirk"
   },
   "outputs": [],
   "source": [
    "def animate(num, data, line):\n",
    "   colors = ['#1f77b4', '#ff7f0e', '#2ca02c', '#d62728', '#9467bd', '#8c564b', '#e377c2',   '#7f7f7f', '#bcbd22', '#17becf']\n",
    "   line.set_color(colors[num % len(colors)])\n",
    "   line.set_alpha(0.7)\n",
    "   line.set_data(data[0:2, :num])\n",
    "   line.set_3d_properties(data[2, :num])\n",
    "   return line"
   ]
  },
  {
   "cell_type": "code",
   "execution_count": null,
   "metadata": {
    "id": "lu2STgfmVUf5"
   },
   "outputs": [],
   "source": [
    "def plot_3d_space(X, y, label='Classes'):   \n",
    "    colors = [\"red\", 'blue']\n",
    "    markers = ['o', 'o']\n",
    "    fig = plt.figure()\n",
    "    ax = fig.add_subplot(projection='3d')\n",
    "    \n",
    "    label = [\"First\", \"Second\"]\n",
    "\n",
    "    for l, c, m in zip(np.unique(y), colors, markers):\n",
    "\n",
    "        line = ax.scatter(\n",
    "            X[y==l, 0],\n",
    "            X[y==l, 1],\n",
    "            c=c, label=label[l], marker=m\n",
    "        )\n",
    "    \n",
    "    plt.legend(loc='upper right')\n",
    "    plt.show()"
   ]
  },
  {
   "cell_type": "code",
   "execution_count": null,
   "metadata": {
    "id": "_vZ_9axjUV9O"
   },
   "outputs": [],
   "source": [
    "\n",
    "import matplotlib.animation as animation\n",
    "plot_3d_space(X, y_train, 'Imbalanced dataset(3 PCA components)')"
   ]
  },
  {
   "cell_type": "code",
   "execution_count": null,
   "metadata": {
    "id": "mTWLGroqiw6k"
   },
   "outputs": [],
   "source": [
    "from sklearn.decomposition import PCA"
   ]
  },
  {
   "cell_type": "code",
   "execution_count": null,
   "metadata": {
    "id": "CG1_WMizi-ma"
   },
   "outputs": [],
   "source": [
    "pca = PCA(0.95)"
   ]
  },
  {
   "cell_type": "code",
   "execution_count": null,
   "metadata": {},
   "outputs": [],
   "source": [
    "a"
   ]
  },
  {
   "cell_type": "code",
   "execution_count": null,
   "metadata": {},
   "outputs": [],
   "source": [
    "pca.fit((X_train.reshape(a,224*224*1)))"
   ]
  },
  {
   "cell_type": "code",
   "execution_count": null,
   "metadata": {},
   "outputs": [],
   "source": [
    "pca.components_.shape"
   ]
  },
  {
   "cell_type": "code",
   "execution_count": null,
   "metadata": {
    "id": "dbHsQjeIa4N1"
   },
   "outputs": [],
   "source": [
    "import plotly.express as px\n",
    "fig = px.scatter_3d(X, x = X[:,0],y = X[:,1] ,z = X[:,2],labels={y_train[0]: \"First\", y_train[1]: \"Second\"},color = y_train)\n",
    "fig.update_traces(marker_size=3)\n",
    "fig.update_layout(showlegend=True)\n",
    "fig.show()"
   ]
  },
  {
   "cell_type": "code",
   "execution_count": null,
   "metadata": {
    "id": "9zFariHnkHni"
   },
   "outputs": [],
   "source": [
    "%matplotlib inline\n",
    "import numpy as np\n",
    "import matplotlib.pyplot as plt"
   ]
  },
  {
   "cell_type": "code",
   "execution_count": null,
   "metadata": {
    "id": "93z4E9seB4kT"
   },
   "outputs": [],
   "source": [
    "import numpy as np\n",
    "from sklearn.manifold import TSNE\n",
    "\n",
    "X_embedded = TSNE(n_components=3, learning_rate='auto',\n",
    "                  init='random', perplexity=3).fit_transform(X_train.reshape(a,224*224*1))\n",
    "X_embedded.shape\n"
   ]
  },
  {
   "cell_type": "code",
   "execution_count": null,
   "metadata": {
    "id": "r5R7tF4ZlC_3"
   },
   "outputs": [],
   "source": [
    "plot_3d_space(X_embedded, y_train) #label='Class')"
   ]
  },
  {
   "cell_type": "code",
   "execution_count": null,
   "metadata": {
    "id": "KH-HQJvrCr01"
   },
   "outputs": [],
   "source": [
    "X_embedded"
   ]
  },
  {
   "cell_type": "code",
   "execution_count": null,
   "metadata": {
    "id": "4-thmlF5D8CT"
   },
   "outputs": [],
   "source": [
    "file = np.column_stack((X_embedded,y_train))\n",
    "np.savetxt(\"tsne_12.csv\", file)\n"
   ]
  },
  {
   "cell_type": "code",
   "execution_count": null,
   "metadata": {
    "id": "r4HU2iH9JkgX"
   },
   "outputs": [],
   "source": [
    "color = ['blue', 'orange']"
   ]
  },
  {
   "cell_type": "code",
   "execution_count": null,
   "metadata": {
    "id": "9GrS-on2EbkG"
   },
   "outputs": [],
   "source": [
    "\n",
    "import plotly.express as px\n",
    "fig = px.scatter_3d(X_embedded, x = X_embedded[:,0],y = X_embedded[:,1] ,z = X_embedded[:,2],color = y_train)\n",
    "fig.update_traces(marker_size=3)\n",
    "fig.show()\n",
    "     "
   ]
  },
  {
   "cell_type": "code",
   "execution_count": null,
   "metadata": {},
   "outputs": [],
   "source": []
  }
 ],
 "metadata": {
  "accelerator": "GPU",
  "colab": {
   "provenance": []
  },
  "gpuClass": "standard",
  "kernelspec": {
   "display_name": "Python 3 (ipykernel)",
   "language": "python",
   "name": "python3"
  },
  "language_info": {
   "codemirror_mode": {
    "name": "ipython",
    "version": 3
   },
   "file_extension": ".py",
   "mimetype": "text/x-python",
   "name": "python",
   "nbconvert_exporter": "python",
   "pygments_lexer": "ipython3",
   "version": "3.9.12"
  }
 },
 "nbformat": 4,
 "nbformat_minor": 1
}
