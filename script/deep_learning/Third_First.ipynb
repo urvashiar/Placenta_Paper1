{
 "cells": [
  {
   "cell_type": "code",
   "execution_count": 135,
   "metadata": {
    "id": "YPglJgjIgmNW"
   },
   "outputs": [],
   "source": [
    "#!pip install autokeras"
   ]
  },
  {
   "cell_type": "code",
   "execution_count": 139,
   "metadata": {
    "id": "J0ySKdRHe9sY"
   },
   "outputs": [],
   "source": [
    "import matplotlib.pyplot as plt\n",
    "import numpy as np\n",
    "import PIL\n",
    "import os,shutil\n",
    "import pandas as pd\n",
    "import keras\n",
    "from keras.layers import *\n",
    "from keras import models\n",
    "from keras.preprocessing.image import ImageDataGenerator\n",
    "from tensorflow.keras.utils import load_img\n",
    "from keras.models import load_model\n",
    "from sklearn.model_selection import train_test_split\n",
    "from sklearn.preprocessing import LabelEncoder\n",
    "#import autokeras as ak\n",
    "#from autokeras import StructuredDataClassifier\n",
    "#from tensorflow.keras.models import Sequential, model_from_json\n"
   ]
  },
  {
   "cell_type": "code",
   "execution_count": 140,
   "metadata": {
    "id": "SXqsX0n1fD_e"
   },
   "outputs": [
    {
     "name": "stdout",
     "output_type": "stream",
     "text": [
      "['Third_400', 'First_400']\n",
      "Training Data:- \n",
      "Third_400 2\n",
      "First_400 2\n"
     ]
    }
   ],
   "source": [
    "path=\"/home/urvashiarora3195/Capstone_project/Control_400/three-one\"\n",
    "train=os.listdir(path)\n",
    "print(train)\n",
    "print(\"Training Data:- \")\n",
    "for f in train:\n",
    "  path1= path+\"/\" +f\n",
    "  print(f+ \" \"+ str(len(os.listdir(path))))"
   ]
  },
  {
   "cell_type": "code",
   "execution_count": 141,
   "metadata": {
    "id": "L1iSb2PbflUt"
   },
   "outputs": [
    {
     "name": "stdout",
     "output_type": "stream",
     "text": [
      "['Third_400', 'First_400']\n",
      "(800, 224, 224, 1)\n"
     ]
    }
   ],
   "source": [
    "from keras.utils import load_img, img_to_array\n",
    "path1=\"/home/urvashiarora3195/Capstone_project/Control_400/three-one\"\n",
    "train=os.listdir(path1)\n",
    "print(train)\n",
    "image_data_train=[]\n",
    "label_train=[]\n",
    "for f in train:\n",
    "  path=\"/home/urvashiarora3195/Capstone_project/Control_400/three-one/\"+f+'/'\n",
    "  entries=os.listdir(path)\n",
    "  for entry in entries:\n",
    "      if f=='First_400':\n",
    "        label=0\n",
    "      else:\n",
    "        label=1\n",
    "      image=load_img(path+entry,target_size=(224,224,1))\n",
    "      image_array=np.reshape(np.average((img_to_array(image)/255.0), axis=2), (224,224,1))\n",
    "      image_data_train.append(image_array)\n",
    "      label_train.append(label)\n",
    "\n",
    "image_data_train=np.array(image_data_train)\n",
    "label_train=np.array(label_train)\n",
    "\n",
    "print(image_data_train.shape)"
   ]
  },
  {
   "cell_type": "code",
   "execution_count": 142,
   "metadata": {
    "id": "VWRxk3vef2Rk"
   },
   "outputs": [
    {
     "name": "stdout",
     "output_type": "stream",
     "text": [
      "(720, 224, 224, 1) (80, 224, 224, 1) (720,) (80,)\n"
     ]
    }
   ],
   "source": [
    "x_train, X_test, y1_train, y_test = train_test_split(image_data_train, label_train, test_size=0.1, random_state=40)\n",
    "print(x_train.shape, X_test.shape, y1_train.shape, y_test.shape)"
   ]
  },
  {
   "cell_type": "code",
   "execution_count": 143,
   "metadata": {},
   "outputs": [
    {
     "name": "stdout",
     "output_type": "stream",
     "text": [
      "(640, 224, 224, 1) (80, 224, 224, 1) (640,) (80,)\n"
     ]
    }
   ],
   "source": [
    "X_train, X_valid, y_train, y_valid = train_test_split(x_train, y1_train, test_size=0.1111, random_state=38)\n",
    "print(X_train.shape, X_test.shape, y_train.shape, y_test.shape)"
   ]
  },
  {
   "cell_type": "code",
   "execution_count": 144,
   "metadata": {
    "id": "euX04e7l96Zm"
   },
   "outputs": [],
   "source": [
    "datagen = ImageDataGenerator(\n",
    "    featurewise_center=True,\n",
    "    featurewise_std_normalization=True,\n",
    "    \n",
    "    rotation_range=20,\n",
    "    width_shift_range=0.2,\n",
    "    height_shift_range=0.2,\n",
    "    horizontal_flip=True,\n",
    "    validation_split=0.2)\n"
   ]
  },
  {
   "cell_type": "code",
   "execution_count": 145,
   "metadata": {
    "id": "Kt88LLPG-ABU"
   },
   "outputs": [],
   "source": [
    "train_data = datagen.fit(X_train)"
   ]
  },
  {
   "cell_type": "code",
   "execution_count": 146,
   "metadata": {
    "id": "sXI_I4QzgDQ1"
   },
   "outputs": [],
   "source": [
    "import keras\n",
    "from keras.models import Sequential\n",
    "from keras.layers import Dense\n",
    "from keras import layers\n",
    "from keras.layers import InputLayer\n",
    "from sklearn.utils import class_weight\n",
    "from tensorflow.keras.regularizers import l1\n",
    "from tensorflow.keras.regularizers import l2"
   ]
  },
  {
   "cell_type": "code",
   "execution_count": 153,
   "metadata": {
    "id": "YiHMMZeigeK7"
   },
   "outputs": [],
   "source": [
    "model = tf.keras.Sequential([\n",
    "  tf.keras.layers.InputLayer(input_shape=(224,224,1), dtype = \"float32\"),\n",
    "  tf.keras.layers.Normalization(axis=-1, mean=None, variance=None),\n",
    "  tf.keras.layers.Conv2D(32, kernel_size=(2,2), kernel_regularizer=tf.keras.regularizers.L1(0.1), strides=(1, 1), activation=\"ReLU\"),\n",
    "  #tf.keras.layers.Dropout(0.4),\n",
    "  tf.keras.layers.Conv2D(32, kernel_size=(2,2), strides=(1, 1), activation=\"ReLU\"),\n",
    "  tf.keras.layers.MaxPool2D(pool_size=(2, 2), strides=None, padding='valid'),\n",
    "  tf.keras.layers.Dropout(0.7),\n",
    "  tf.keras.layers.Flatten(),\n",
    "  tf.keras.layers.Dropout(0.9),\n",
    "  tf.keras.layers.Dense(1,activation=\"sigmoid\")])\n",
    "\n"
   ]
  },
  {
   "cell_type": "code",
   "execution_count": 154,
   "metadata": {},
   "outputs": [],
   "source": [
    "model.compile(optimizer = tf.keras.optimizers.Adam(learning_rate=0.001), loss = 'binary_crossentropy',metrics = ['acc'])"
   ]
  },
  {
   "cell_type": "code",
   "execution_count": 155,
   "metadata": {},
   "outputs": [
    {
     "name": "stdout",
     "output_type": "stream",
     "text": [
      "Epoch 1/50\n",
      "20/20 [==============================] - 95s 4s/step - loss: 0.8965 - acc: 0.5094 - val_loss: 0.7844 - val_acc: 0.6625\n",
      "Epoch 2/50\n",
      "20/20 [==============================] - 88s 4s/step - loss: 0.7903 - acc: 0.5703 - val_loss: 0.7704 - val_acc: 0.6625\n",
      "Epoch 3/50\n",
      "20/20 [==============================] - 88s 4s/step - loss: 0.7582 - acc: 0.6156 - val_loss: 0.7205 - val_acc: 0.6750\n",
      "Epoch 4/50\n",
      "20/20 [==============================] - 88s 4s/step - loss: 0.7360 - acc: 0.6281 - val_loss: 0.6997 - val_acc: 0.6500\n",
      "Epoch 5/50\n",
      "20/20 [==============================] - 88s 4s/step - loss: 0.6880 - acc: 0.6516 - val_loss: 0.6502 - val_acc: 0.6875\n",
      "Epoch 6/50\n",
      "20/20 [==============================] - 88s 4s/step - loss: 0.6684 - acc: 0.6797 - val_loss: 0.6347 - val_acc: 0.6625\n",
      "Epoch 7/50\n",
      "20/20 [==============================] - 88s 4s/step - loss: 0.6594 - acc: 0.7016 - val_loss: 0.6299 - val_acc: 0.6875\n",
      "Epoch 8/50\n",
      "20/20 [==============================] - 88s 4s/step - loss: 0.6245 - acc: 0.7266 - val_loss: 0.6206 - val_acc: 0.7000\n",
      "Epoch 9/50\n",
      "20/20 [==============================] - 88s 4s/step - loss: 0.6360 - acc: 0.7172 - val_loss: 0.6201 - val_acc: 0.6875\n",
      "Epoch 10/50\n",
      "20/20 [==============================] - 88s 4s/step - loss: 0.6041 - acc: 0.7453 - val_loss: 0.5971 - val_acc: 0.7375\n",
      "Epoch 11/50\n",
      "20/20 [==============================] - 88s 4s/step - loss: 0.5655 - acc: 0.7609 - val_loss: 0.6122 - val_acc: 0.7000\n",
      "Epoch 12/50\n",
      "20/20 [==============================] - 87s 4s/step - loss: 0.5750 - acc: 0.7500 - val_loss: 0.6076 - val_acc: 0.7250\n",
      "Epoch 13/50\n",
      "20/20 [==============================] - 87s 4s/step - loss: 0.5337 - acc: 0.7688 - val_loss: 0.5943 - val_acc: 0.7375\n",
      "Epoch 14/50\n",
      "20/20 [==============================] - 88s 4s/step - loss: 0.5536 - acc: 0.7672 - val_loss: 0.5861 - val_acc: 0.7000\n",
      "Epoch 15/50\n",
      "20/20 [==============================] - 88s 4s/step - loss: 0.5344 - acc: 0.7688 - val_loss: 0.5722 - val_acc: 0.7250\n",
      "Epoch 16/50\n",
      "20/20 [==============================] - 88s 4s/step - loss: 0.5144 - acc: 0.7734 - val_loss: 0.5598 - val_acc: 0.6875\n",
      "Epoch 17/50\n",
      "20/20 [==============================] - 88s 4s/step - loss: 0.5151 - acc: 0.7812 - val_loss: 0.5693 - val_acc: 0.6875\n",
      "Epoch 18/50\n",
      "20/20 [==============================] - 88s 4s/step - loss: 0.5094 - acc: 0.8031 - val_loss: 0.6218 - val_acc: 0.7000\n",
      "Epoch 19/50\n",
      "20/20 [==============================] - 87s 4s/step - loss: 0.4802 - acc: 0.8141 - val_loss: 0.5656 - val_acc: 0.6625\n",
      "Epoch 20/50\n",
      "20/20 [==============================] - 88s 4s/step - loss: 0.4424 - acc: 0.8250 - val_loss: 0.5550 - val_acc: 0.7375\n",
      "Epoch 21/50\n",
      "20/20 [==============================] - 88s 4s/step - loss: 0.4428 - acc: 0.8203 - val_loss: 0.5497 - val_acc: 0.7500\n",
      "Epoch 22/50\n",
      "20/20 [==============================] - 88s 4s/step - loss: 0.4581 - acc: 0.8078 - val_loss: 0.5559 - val_acc: 0.7625\n",
      "Epoch 23/50\n",
      "20/20 [==============================] - 88s 4s/step - loss: 0.4567 - acc: 0.8156 - val_loss: 0.5405 - val_acc: 0.7250\n",
      "Epoch 24/50\n",
      "20/20 [==============================] - 87s 4s/step - loss: 0.4376 - acc: 0.8313 - val_loss: 0.5349 - val_acc: 0.7500\n",
      "Epoch 25/50\n",
      "20/20 [==============================] - 87s 4s/step - loss: 0.3930 - acc: 0.8453 - val_loss: 0.5326 - val_acc: 0.7000\n",
      "Epoch 26/50\n",
      "20/20 [==============================] - 87s 4s/step - loss: 0.4255 - acc: 0.8422 - val_loss: 0.5644 - val_acc: 0.7375\n",
      "Epoch 27/50\n",
      "20/20 [==============================] - 87s 4s/step - loss: 0.4241 - acc: 0.8281 - val_loss: 0.5820 - val_acc: 0.7375\n",
      "Epoch 28/50\n",
      "20/20 [==============================] - 87s 4s/step - loss: 0.3731 - acc: 0.8750 - val_loss: 0.5492 - val_acc: 0.7750\n",
      "Epoch 29/50\n",
      "20/20 [==============================] - 88s 4s/step - loss: 0.3907 - acc: 0.8578 - val_loss: 0.5560 - val_acc: 0.7500\n",
      "Epoch 30/50\n",
      "20/20 [==============================] - 88s 4s/step - loss: 0.3606 - acc: 0.8734 - val_loss: 0.5306 - val_acc: 0.7875\n",
      "Epoch 31/50\n",
      "20/20 [==============================] - 87s 4s/step - loss: 0.3613 - acc: 0.8734 - val_loss: 0.5396 - val_acc: 0.7875\n",
      "Epoch 32/50\n",
      "20/20 [==============================] - 88s 4s/step - loss: 0.3452 - acc: 0.8687 - val_loss: 0.5598 - val_acc: 0.7375\n",
      "Epoch 33/50\n",
      "20/20 [==============================] - 88s 4s/step - loss: 0.3613 - acc: 0.8719 - val_loss: 0.6316 - val_acc: 0.6750\n",
      "Epoch 34/50\n",
      "20/20 [==============================] - 87s 4s/step - loss: 0.3451 - acc: 0.8797 - val_loss: 0.5488 - val_acc: 0.6875\n",
      "Epoch 35/50\n",
      "20/20 [==============================] - 87s 4s/step - loss: 0.3089 - acc: 0.8953 - val_loss: 0.5270 - val_acc: 0.7875\n",
      "Epoch 36/50\n",
      "20/20 [==============================] - 88s 4s/step - loss: 0.3026 - acc: 0.8969 - val_loss: 0.5767 - val_acc: 0.7375\n",
      "Epoch 37/50\n",
      "20/20 [==============================] - 88s 4s/step - loss: 0.3311 - acc: 0.8875 - val_loss: 0.5732 - val_acc: 0.7125\n",
      "Epoch 38/50\n",
      "20/20 [==============================] - 88s 4s/step - loss: 0.3197 - acc: 0.8922 - val_loss: 0.5504 - val_acc: 0.7000\n",
      "Epoch 39/50\n",
      "20/20 [==============================] - 88s 4s/step - loss: 0.3374 - acc: 0.8672 - val_loss: 0.5806 - val_acc: 0.7250\n",
      "Epoch 40/50\n",
      "20/20 [==============================] - 88s 4s/step - loss: 0.3361 - acc: 0.8859 - val_loss: 0.5343 - val_acc: 0.7625\n",
      "Epoch 41/50\n",
      "20/20 [==============================] - 88s 4s/step - loss: 0.3221 - acc: 0.8891 - val_loss: 0.5571 - val_acc: 0.7125\n",
      "Epoch 42/50\n",
      "20/20 [==============================] - 88s 4s/step - loss: 0.2679 - acc: 0.9172 - val_loss: 0.5524 - val_acc: 0.7375\n",
      "Epoch 43/50\n",
      "20/20 [==============================] - 88s 4s/step - loss: 0.2822 - acc: 0.9047 - val_loss: 0.5672 - val_acc: 0.6875\n",
      "Epoch 44/50\n",
      "20/20 [==============================] - 88s 4s/step - loss: 0.2897 - acc: 0.8984 - val_loss: 0.5618 - val_acc: 0.7625\n",
      "Epoch 45/50\n",
      "20/20 [==============================] - 88s 4s/step - loss: 0.2814 - acc: 0.8969 - val_loss: 0.5367 - val_acc: 0.7500\n",
      "Epoch 46/50\n",
      "20/20 [==============================] - 88s 4s/step - loss: 0.2731 - acc: 0.9094 - val_loss: 0.5645 - val_acc: 0.7625\n",
      "Epoch 47/50\n",
      "20/20 [==============================] - 88s 4s/step - loss: 0.2718 - acc: 0.8969 - val_loss: 0.5240 - val_acc: 0.7500\n",
      "Epoch 48/50\n",
      "20/20 [==============================] - 88s 4s/step - loss: 0.2600 - acc: 0.9203 - val_loss: 0.5583 - val_acc: 0.7250\n",
      "Epoch 49/50\n",
      "20/20 [==============================] - 88s 4s/step - loss: 0.2662 - acc: 0.9094 - val_loss: 0.5649 - val_acc: 0.7000\n",
      "Epoch 50/50\n",
      "20/20 [==============================] - 87s 4s/step - loss: 0.2692 - acc: 0.9187 - val_loss: 0.6228 - val_acc: 0.6875\n"
     ]
    }
   ],
   "source": [
    "hist = model.fit(X_train, y_train,validation_data=(X_valid, y_valid), epochs=50, shuffle =True)"
   ]
  },
  {
   "cell_type": "code",
   "execution_count": 156,
   "metadata": {},
   "outputs": [],
   "source": [
    "df = pd.DataFrame({'loss' : hist.history[\"loss\"],\n",
    "                                'val_loss' : hist.history[\"val_loss\"],\n",
    "                                'accuracy' : hist.history[\"acc\"],\n",
    "                               \"val_accuracy\": hist.history[\"val_acc\"] }, \n",
    "                                columns=['loss','val_loss', 'accuracy', \"val_accuracy\"])\n",
    "df.head()\n",
    "df.to_csv('/home/urvashiarora3195/Capstone_project/result/hist_13.csv')"
   ]
  },
  {
   "cell_type": "code",
   "execution_count": 157,
   "metadata": {
    "id": "rMhzprMGhcn0"
   },
   "outputs": [
    {
     "data": {
      "image/png": "[encoded data removed]",
      "text/plain": [
       "<Figure size 640x480 with 1 Axes>"
      ]
     },
     "metadata": {},
     "output_type": "display_data"
    }
   ],
   "source": [
    "#plt.style.use(\"seaborn\")\n",
    "plt.plot(hist.history['loss'],label=\"training loss\",c='red')\n",
    "plt.plot(hist.history['val_loss'],label=\"validation loss\",c='green')\n",
    "plt.xlabel(\"Epochs\", fontsize=15)\n",
    "plt.ylabel(\"Loss\", fontsize=15)\n",
    "#plt.ylim(1,4.5)\n",
    "plt.savefig(\"/home/urvashiarora3195/Capstone_project/result/loss_13.jpg\")\n",
    "\n",
    "plt.legend()\n",
    "plt.show()"
   ]
  },
  {
   "cell_type": "code",
   "execution_count": 158,
   "metadata": {
    "id": "KbLaQE1Qh_8x"
   },
   "outputs": [
    {
     "data": {
      "image/png": "[encoded data removed]",
      "text/plain": [
       "<Figure size 640x480 with 1 Axes>"
      ]
     },
     "metadata": {},
     "output_type": "display_data"
    }
   ],
   "source": [
    "#plt.style.use(\"seaborn\")\n",
    "plt.plot(hist.history['acc'],label=\"training acc\",c='red')\n",
    "plt.plot(hist.history['val_acc'],label=\"validation acc\",c='green')\n",
    "plt.xlabel(\"Epochs\", fontsize=15)\n",
    "plt.ylabel(\"Accuracy\", fontsize=15)\n",
    "plt.savefig(\"/home/urvashiarora3195/Capstone_project/result/acc_13.jpg\")\n",
    "plt.legend()\n",
    "plt.show()"
   ]
  },
  {
   "cell_type": "code",
   "execution_count": 159,
   "metadata": {
    "id": "E09zzWiJihz6"
   },
   "outputs": [
    {
     "name": "stdout",
     "output_type": "stream",
     "text": [
      "3/3 [==============================] - 2s 394ms/step\n",
      "confusion Matrix:\n",
      "[[23 15]\n",
      " [ 8 34]]\n",
      "**********************************************\n",
      "Classification Report:\n",
      "              precision    recall  f1-score   support\n",
      "\n",
      "        Case       0.74      0.61      0.67        38\n",
      "     Control       0.69      0.81      0.75        42\n",
      "\n",
      "    accuracy                           0.71        80\n",
      "   macro avg       0.72      0.71      0.71        80\n",
      "weighted avg       0.72      0.71      0.71        80\n",
      "\n",
      "**********************************************\n",
      "Accuracy Score : 0.7125\n",
      "**********************************************\n",
      "F1 Score : 0.7472527472527472\n",
      "**********************************************\n",
      "Class Wise Accuracy :\n",
      "Third : 60.526315789473685\n",
      "First : 80.95238095238095\n",
      "**********************************************\n",
      "ROC_AUC Score: 0.7073934837092732\n",
      "**********************************************\n",
      "Cohen_kappa score: 0.4184576485461441\n"
     ]
    },
    {
     "data": {
      "image/png": "[encoded data removed]",
      "text/plain": [
       "<Figure size 640x480 with 1 Axes>"
      ]
     },
     "metadata": {},
     "output_type": "display_data"
    }
   ],
   "source": [
    "\n",
    "Y_pred_res = model.predict(X_test)\n",
    "Y_pred=[]\n",
    "Y_pred_res=list(Y_pred_res)\n",
    "for res in Y_pred_res:\n",
    "  if res>0.5:\n",
    "    Y_pred.append(1)\n",
    "  else:\n",
    "    Y_pred.append(0)\n",
    "y_pred=np.array(Y_pred)\n",
    "\n",
    "#Confution Matrix and Classification Report\n",
    "from sklearn.metrics import accuracy_score,f1_score\n",
    "from sklearn.metrics import confusion_matrix,classification_report\n",
    "from sklearn.metrics import roc_auc_score\n",
    "from sklearn.metrics import RocCurveDisplay\n",
    "from sklearn.metrics import cohen_kappa_score\n",
    "\n",
    "print(\"confusion Matrix:\")\n",
    "print(confusion_matrix(y_test, y_pred)) \n",
    "print(\"**********************************************\")\n",
    "print(\"Classification Report:\")\n",
    "print(classification_report(y_test, y_pred,target_names=['Case','Control'])) \n",
    "print(\"**********************************************\")\n",
    "print(\"Accuracy Score :\",accuracy_score(y_test, y_pred))\n",
    "print(\"**********************************************\")\n",
    "print(\"F1 Score :\",f1_score(y_test, y_pred))\n",
    "print(\"**********************************************\")\n",
    "print(\"Class Wise Accuracy :\")\n",
    "cm=confusion_matrix(y_test, y_pred)\n",
    "cm=cm.astype('float')/cm.sum(axis=1)[:, np.newaxis]\n",
    "class_wise_acc=cm.diagonal()\n",
    "print(\"Third :\", class_wise_acc[0]*100)\n",
    "print(\"First :\", class_wise_acc[1]*100)\n",
    "print(\"**********************************************\")\n",
    "r_score=roc_auc_score(y_test, y_pred, average=None)\n",
    "print(\"ROC_AUC Score:\",r_score)\n",
    "print(\"**********************************************\")\n",
    "RocCurveDisplay.from_predictions(y_test, y_pred)\n",
    "cohen_score = cohen_kappa_score(y_test, y_pred)\n",
    "print(\"Cohen_kappa score:\",cohen_score)\n"
   ]
  },
  {
   "cell_type": "code",
   "execution_count": null,
   "metadata": {
    "id": "8zNE6G5HGPvH"
   },
   "outputs": [],
   "source": [
    "\n"
   ]
  },
  {
   "cell_type": "code",
   "execution_count": null,
   "metadata": {
    "id": "SL9oOoxNGhlF"
   },
   "outputs": [],
   "source": [
    "model.summary()\n"
   ]
  },
  {
   "cell_type": "code",
   "execution_count": null,
   "metadata": {
    "id": "4TyDQshETaAh"
   },
   "outputs": [],
   "source": [
    "#import pickle"
   ]
  },
  {
   "cell_type": "code",
   "execution_count": null,
   "metadata": {},
   "outputs": [],
   "source": [
    "#pickle.dump(model, open('model12.pkl','wb'))\n"
   ]
  },
  {
   "cell_type": "code",
   "execution_count": null,
   "metadata": {
    "id": "x4V5mThAGirK"
   },
   "outputs": [],
   "source": [
    "#import torch\n",
    "#path = F\"/content/drive/model_baseline.pt\"\n",
    "#torch.save(model.state_dict(), path)"
   ]
  },
  {
   "cell_type": "code",
   "execution_count": null,
   "metadata": {
    "id": "Uy-a9_kyUBHx"
   },
   "outputs": [],
   "source": [
    "# serialize model to JSON\n",
    "#model_json = model.to_json()\n",
    "#with open(\"model.json\", \"w\") as json_file:\n",
    " #   json_file.write(model_json)\n",
    "# serialize weights to HDF5\n",
    "#model.save_weights(\"model.h5\")\n",
    "#print(\"Saved model to disk\")"
   ]
  },
  {
   "cell_type": "code",
   "execution_count": null,
   "metadata": {
    "id": "eI6fDOnaT5qL"
   },
   "outputs": [],
   "source": [
    "a = len(X_train)"
   ]
  },
  {
   "cell_type": "code",
   "execution_count": null,
   "metadata": {
    "id": "ISfjOcNMT_x0"
   },
   "outputs": [],
   "source": [
    "#X_train.reshape(435*224*224*3)"
   ]
  },
  {
   "cell_type": "code",
   "execution_count": null,
   "metadata": {
    "id": "qWhTASrPTpwJ"
   },
   "outputs": [],
   "source": [
    "from sklearn.decomposition import PCA\n",
    "\n",
    "pca = PCA(n_components=3)\n",
    "\n",
    "X = pca.fit_transform(X_train.reshape(a,224*224*1))"
   ]
  },
  {
   "cell_type": "code",
   "execution_count": null,
   "metadata": {
    "id": "LyjKXSLBBZuP"
   },
   "outputs": [],
   "source": [
    "X"
   ]
  },
  {
   "cell_type": "code",
   "execution_count": null,
   "metadata": {
    "id": "DhNNC6Uasirk"
   },
   "outputs": [],
   "source": [
    "def animate(num, data, line):\n",
    "   colors = ['#1f77b4', '#ff7f0e', '#2ca02c', '#d62728', '#9467bd', '#8c564b', '#e377c2',   '#7f7f7f', '#bcbd22', '#17becf']\n",
    "   line.set_color(colors[num % len(colors)])\n",
    "   line.set_alpha(0.7)\n",
    "   line.set_data(data[0:2, :num])\n",
    "   line.set_3d_properties(data[2, :num])\n",
    "   return line"
   ]
  },
  {
   "cell_type": "code",
   "execution_count": null,
   "metadata": {
    "id": "lu2STgfmVUf5"
   },
   "outputs": [],
   "source": [
    "def plot_3d_space(X, y, label='Classes'):   \n",
    "    colors = [\"orange\", \"red\"]\n",
    "    markers = ['o', 'o']\n",
    "    fig = plt.figure()\n",
    "    ax = fig.add_subplot(projection='3d')\n",
    "    label = [\"Third\", \"First\"]\n",
    "    for l, c, m in zip(np.unique(y), colors, markers):\n",
    "\n",
    "        line = ax.scatter(\n",
    "            X[y==l, 0],\n",
    "            X[y==l, 1],\n",
    "            c=c, label=label[l], marker=m\n",
    "        )\n",
    "    \n",
    "    plt.legend(loc='upper right')\n",
    "    plt.show()"
   ]
  },
  {
   "cell_type": "code",
   "execution_count": null,
   "metadata": {
    "id": "_vZ_9axjUV9O"
   },
   "outputs": [],
   "source": [
    "\n",
    "import matplotlib.animation as animation\n",
    "plot_3d_space(X, y_train, 'Imbalanced dataset(3 PCA components)')"
   ]
  },
  {
   "cell_type": "code",
   "execution_count": null,
   "metadata": {
    "id": "mTWLGroqiw6k"
   },
   "outputs": [],
   "source": [
    "from sklearn.decomposition import PCA"
   ]
  },
  {
   "cell_type": "code",
   "execution_count": null,
   "metadata": {
    "id": "CG1_WMizi-ma"
   },
   "outputs": [],
   "source": [
    "pca = PCA(n_components=3)"
   ]
  },
  {
   "cell_type": "code",
   "execution_count": null,
   "metadata": {
    "id": "dbHsQjeIa4N1"
   },
   "outputs": [],
   "source": [
    "import plotly.express as px\n",
    "fig = px.scatter_3d(X, x = X[:,0],y = X[:,1] ,z = X[:,2],color = y_train)\n",
    "fig.update_traces(marker_size=3)\n",
    "fig.show()"
   ]
  },
  {
   "cell_type": "code",
   "execution_count": null,
   "metadata": {
    "id": "9zFariHnkHni"
   },
   "outputs": [],
   "source": [
    "%matplotlib inline\n",
    "import numpy as np\n",
    "import matplotlib.pyplot as plt"
   ]
  },
  {
   "cell_type": "code",
   "execution_count": null,
   "metadata": {
    "id": "93z4E9seB4kT"
   },
   "outputs": [],
   "source": [
    "import numpy as np\n",
    "from sklearn.manifold import TSNE\n",
    "\n",
    "X_embedded = TSNE(n_components=3, learning_rate='auto',\n",
    "                  init='random', perplexity=3).fit_transform(X_train.reshape(a,224*224*1))\n",
    "X_embedded.shape\n"
   ]
  },
  {
   "cell_type": "code",
   "execution_count": null,
   "metadata": {
    "id": "r5R7tF4ZlC_3"
   },
   "outputs": [],
   "source": [
    "plot_3d_space(X_embedded, y_train, label='Class')"
   ]
  },
  {
   "cell_type": "code",
   "execution_count": null,
   "metadata": {
    "id": "KH-HQJvrCr01"
   },
   "outputs": [],
   "source": [
    "X_embedded"
   ]
  },
  {
   "cell_type": "code",
   "execution_count": null,
   "metadata": {
    "id": "4-thmlF5D8CT"
   },
   "outputs": [],
   "source": [
    "file = np.column_stack((X_embedded,y_train))\n",
    "np.savetxt(\"X_train.csv\", file)\n"
   ]
  },
  {
   "cell_type": "code",
   "execution_count": null,
   "metadata": {
    "id": "r4HU2iH9JkgX"
   },
   "outputs": [],
   "source": [
    "color = ['blue', 'orange']"
   ]
  },
  {
   "cell_type": "code",
   "execution_count": null,
   "metadata": {
    "id": "9GrS-on2EbkG"
   },
   "outputs": [],
   "source": [
    "\n",
    "import plotly.express as px\n",
    "fig = px.scatter_3d(X_embedded, x = X_embedded[:,0],y = X_embedded[:,1] ,z = X_embedded[:,2],color = y_train)\n",
    "fig.update_traces(marker_size=3)\n",
    "fig.show()\n",
    "     "
   ]
  },
  {
   "cell_type": "code",
   "execution_count": null,
   "metadata": {},
   "outputs": [],
   "source": []
  }
 ],
 "metadata": {
  "accelerator": "GPU",
  "colab": {
   "provenance": []
  },
  "gpuClass": "standard",
  "kernelspec": {
   "display_name": "Python 3 (ipykernel)",
   "language": "python",
   "name": "python3"
  },
  "language_info": {
   "codemirror_mode": {
    "name": "ipython",
    "version": 3
   },
   "file_extension": ".py",
   "mimetype": "text/x-python",
   "name": "python",
   "nbconvert_exporter": "python",
   "pygments_lexer": "ipython3",
   "version": "3.9.12"
  }
 },
 "nbformat": 4,
 "nbformat_minor": 1
}
